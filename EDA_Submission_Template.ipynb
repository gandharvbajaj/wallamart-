{
  "nbformat": 4,
  "nbformat_minor": 0,
  "metadata": {
    "colab": {
      "private_outputs": true,
      "provenance": [],
      "collapsed_sections": [
        "gIfDvo9L0UH2"
      ],
      "toc_visible": true,
      "include_colab_link": true
    },
    "kernelspec": {
      "name": "python3",
      "display_name": "Python 3"
    },
    "language_info": {
      "name": "python"
    }
  },
  "cells": [
    {
      "cell_type": "markdown",
      "metadata": {
        "id": "view-in-github",
        "colab_type": "text"
      },
      "source": [
        "<a href=\"https://colab.research.google.com/github/gandharvbajaj/wallamart-/blob/main/EDA_Submission_Template.ipynb\" target=\"_parent\"><img src=\"https://colab.research.google.com/assets/colab-badge.svg\" alt=\"Open In Colab\"/></a>"
      ]
    },
    {
      "cell_type": "markdown",
      "source": [
        "# **Project Name**    - **CAPSTONE PROJECT**: **Air bnb Booking Analysis**\n",
        "\n"
      ],
      "metadata": {
        "id": "vncDsAP0Gaoa"
      }
    },
    {
      "cell_type": "markdown",
      "source": [
        "##### **Project Type**    - EDA\n",
        "\n",
        "---\n",
        "\n",
        "\n",
        "##### **Contribution**    - Individual/Gandharv Bajaj\n"
      ],
      "metadata": {
        "id": "beRrZCGUAJYm"
      }
    },
    {
      "cell_type": "markdown",
      "source": [
        "# **Project Summary -**"
      ],
      "metadata": {
        "id": "FJNUwmbgGyua"
      }
    },
    {
      "cell_type": "markdown",
      "source": [
        "* The main goal of this analysis is to uncover the factors influencing Airbnb pricing in New York City, recognize variable patterns, and offer valuable insights for travelers, hosts, and the Airbnb business sector.\n",
        "\n",
        "* Initially, the project focused on data exploration and cleaning to make the dataset ready for analysis. This involved examining the data to understand its characteristics, such as types, missing values, and value distributions. The cleaning process addressed issues like errors, missing entries, and duplicate records, and outliers were removed.\n",
        "\n",
        "* By identifying and resolving data issues, we ensured the dataset was high-quality and free from biases or errors that could skew results. This foundational step is crucial for any analysis project to ensure accuracy and reliability in subsequent analyses.\n",
        "\n",
        "* With the data cleaned and prepped, we moved on to exploration and summarization. This included describing the data, creating visualizations, and spotting patterns and trends. We also examined relationships between variables and the possible reasons behind certain patterns or trends.\n",
        "\n",
        "* Data visualization played a key role in uncovering and understanding patterns in the Airbnb data. Various graphs and charts were created to illustrate the data, accompanied by observations and insights to aid in interpretation and highlight significant findings.\n",
        "\n",
        "* Through these visualizations, we identified trends and relationships that are not easily seen in raw data. For instance, we discovered that factors like minimum nights, number of reviews, and host listing count significantly influence pricing. Additionally, availability varies widely across different neighborhoods.\n",
        "\n",
        "* The insights gained from this process are beneficial for future analysis and decision-making concerning Airbnb. Our findings provide valuable information for both travelers and hosts in New York City, aiding in better decision-making and strategic planning."
      ],
      "metadata": {
        "id": "F6v_1wHtG2nS"
      }
    },
    {
      "cell_type": "markdown",
      "source": [
        "# **GitHub Link -**"
      ],
      "metadata": {
        "id": "w6K7xa23Elo4"
      }
    },
    {
      "cell_type": "markdown",
      "source": [
        "Provide your GitHub Link here.\n",
        "https://github.com/gandharvbajaj"
      ],
      "metadata": {
        "id": "h1o69JH3Eqqn"
      }
    },
    {
      "cell_type": "markdown",
      "source": [
        "# **Problem Statement**\n"
      ],
      "metadata": {
        "id": "yQaldy8SH6Dl"
      }
    },
    {
      "cell_type": "markdown",
      "source": [
        "1. What are the most popular neighborhoods for Airbnb rentals in New York City? How do prices and availability vary by neighborhood?\n",
        "\n",
        "2. How has the Airbnb market in New York City changed over time? Have there been any significant trends in terms of the number of listings, prices, or occupancy rates?\n",
        "\n",
        "3. Are there any patterns or trends in terms of the types of properties that are being rented out on Airbnb in New York City? Are certain types of properties more popular or more expensive than others?\n",
        "\n",
        "4. Are there any factors that seem to be correlated with the prices of Airbnb rentals in New York City?\n",
        "\n",
        "5. The best area in New York City for a host to buy property at a good price rate and in an area with high traffic ?\n",
        "\n",
        "6. How do the lengths of stay for Airbnb rentals in New York City vary by neighborhood? Do certain neighborhoods tend to attract longer or shorter stays?\n",
        "\n",
        "7. How do the ratings of Airbnb rentals in New York City compare to their prices? Are higher-priced rentals more likely to have higher ratings?\n",
        "\n",
        "8. Find the total numbers of Reviews and Maximum Reviews by Each Neighborhood Group.\n",
        "\n",
        "9. Find Most reviewed room type in Neighborhood groups per month.\n",
        "\n",
        "10. Find Best location listing/property location for travelers.\n",
        "\n",
        "11. Find also best location listing/property location for Hosts.\n",
        "\n",
        "12. Find Price variations in NYC Neighborhood groups.\n",
        "\n",
        "13. There is a lot of problem statements and we have to finds information and insights through different different problem statements so now lets start..."
      ],
      "metadata": {
        "id": "DpeJGUA3kjGy"
      }
    },
    {
      "cell_type": "markdown",
      "source": [
        "#### **Define Your Business Objective?**"
      ],
      "metadata": {
        "id": "PH-0ReGfmX4f"
      }
    },
    {
      "cell_type": "markdown",
      "source": [
        "Answer Here. Our business objective is to serve maximum custumers and guests with quality services and\n",
        "Maximize Exposure and Accessibility:\n",
        "\n",
        "Increase visibility to attract more guests.\n",
        "Ensure competitive pricing across neighborhoods.\n",
        "Foster a positive host community.\n",
        "* **Accommodation Variety and Pricing:**\n",
        "1. Optimize minimum stay requirements and room availability.\n",
        "2. Tailor marketing strategies based on seasonal guest patterns.\n",
        "3. Invest strategically in high-return neighborhoods.\n",
        "* **Listing Details and User Experience:**\n",
        "1. Diversify room type offerings for guest preferences.\n",
        "2. Visualize pricing dynamics for informed decisions.\n",
        "3. Improve guest satisfaction through review analysis.\n",
        "\n",
        "* **Stay Duration and Neighborhood Preferences:**\n",
        "     1. Analyze and optimize stay duration policies.\n",
        "     2. Identify cost-effective and luxury neighborhoods.\n",
        "\n",
        "\n",
        "\n"
      ],
      "metadata": {
        "id": "PhDvGCAqmjP1"
      }
    },
    {
      "cell_type": "markdown",
      "source": [
        "# **General Guidelines** : -  "
      ],
      "metadata": {
        "id": "mDgbUHAGgjLW"
      }
    },
    {
      "cell_type": "markdown",
      "source": [
        "1.   Well-structured, formatted, and commented code is required.\n",
        "2.   Exception Handling, Production Grade Code & Deployment Ready Code will be a plus. Those students will be awarded some additional credits.\n",
        "     \n",
        "     The additional credits will have advantages over other students during Star Student selection.\n",
        "       \n",
        "             [ Note: - Deployment Ready Code is defined as, the whole .ipynb notebook should be executable in one go\n",
        "                       without a single error logged. ]\n",
        "\n",
        "3.   Each and every logic should have proper comments.\n",
        "4. You may add as many number of charts you want. Make Sure for each and every chart the following format should be answered.\n",
        "        \n",
        "\n",
        "```\n",
        "# Chart visualization code\n",
        "```\n",
        "            \n",
        "\n",
        "*   Why did you pick the specific chart?\n",
        "*   What is/are the insight(s) found from the chart?\n",
        "* Will the gained insights help creating a positive business impact?\n",
        "Are there any insights that lead to negative growth? Justify with specific reason.\n",
        "\n",
        "5. You have to create at least 20 logical & meaningful charts having important insights.\n",
        "\n",
        "\n",
        "[ Hints : - Do the Vizualization in  a structured way while following \"UBM\" Rule.\n",
        "\n",
        "U - Univariate Analysis,\n",
        "\n",
        "B - Bivariate Analysis (Numerical - Categorical, Numerical - Numerical, Categorical - Categorical)\n",
        "\n",
        "M - Multivariate Analysis\n",
        " ]\n",
        "\n",
        "\n",
        "\n"
      ],
      "metadata": {
        "id": "ZrxVaUj-hHfC"
      }
    },
    {
      "cell_type": "markdown",
      "source": [
        "# ***Let's Begin !***"
      ],
      "metadata": {
        "id": "O_i_v8NEhb9l"
      }
    },
    {
      "cell_type": "markdown",
      "source": [
        "## ***1. Know Your Data***"
      ],
      "metadata": {
        "id": "HhfV-JJviCcP"
      }
    },
    {
      "cell_type": "markdown",
      "source": [
        "### Import Libraries"
      ],
      "metadata": {
        "id": "Y3lxredqlCYt"
      }
    },
    {
      "cell_type": "code",
      "source": [
        "# Import Libraries\n",
        "import matplotlib.pyplot as plt\n",
        "import seaborn as sns\n",
        "import pandas as pd\n",
        "import numpy as np\n",
        "import plotly.express as px\n",
        "import missingno as msno\n",
        "import os"
      ],
      "metadata": {
        "id": "M8Vqi-pPk-HR"
      },
      "execution_count": null,
      "outputs": []
    },
    {
      "cell_type": "markdown",
      "source": [
        "### Dataset Loading"
      ],
      "metadata": {
        "id": "3RnN4peoiCZX"
      }
    },
    {
      "cell_type": "code",
      "source": [
        "#drive mounting\n",
        "from google.colab import drive\n",
        "drive.mount('/content/drive')"
      ],
      "metadata": {
        "id": "gV5ZFZV5CUQ6"
      },
      "execution_count": null,
      "outputs": []
    },
    {
      "cell_type": "code",
      "source": [
        "# Load Dataset\n",
        "airbnb_df  = pd.read_csv ('/content/drive/MyDrive/Airbnb NYC 2019.csv')"
      ],
      "metadata": {
        "id": "4CkvbW_SlZ_R"
      },
      "execution_count": null,
      "outputs": []
    },
    {
      "cell_type": "markdown",
      "source": [
        "### Dataset First View"
      ],
      "metadata": {
        "id": "x71ZqKXriCWQ"
      }
    },
    {
      "cell_type": "code",
      "source": [
        "# Dataset First Look\n",
        "airbnb_df.head()"
      ],
      "metadata": {
        "id": "LWNFOSvLl09H"
      },
      "execution_count": null,
      "outputs": []
    },
    {
      "cell_type": "code",
      "source": [
        "airbnb_df.tail()"
      ],
      "metadata": {
        "id": "EHhbPqnnEADU"
      },
      "execution_count": null,
      "outputs": []
    },
    {
      "cell_type": "markdown",
      "source": [
        "### Dataset Rows & Columns count"
      ],
      "metadata": {
        "id": "7hBIi_osiCS2"
      }
    },
    {
      "cell_type": "code",
      "source": [
        "# Dataset Rows & Columns count\n",
        "airbnb_df.shape"
      ],
      "metadata": {
        "id": "Kllu7SJgmLij"
      },
      "execution_count": null,
      "outputs": []
    },
    {
      "cell_type": "markdown",
      "source": [
        "### Dataset Information"
      ],
      "metadata": {
        "id": "JlHwYmJAmNHm"
      }
    },
    {
      "cell_type": "code",
      "source": [
        "# Dataset Info\n",
        "airbnb_df.info()"
      ],
      "metadata": {
        "id": "e9hRXRi6meOf"
      },
      "execution_count": null,
      "outputs": []
    },
    {
      "cell_type": "markdown",
      "source": [
        "#### Duplicate Values"
      ],
      "metadata": {
        "id": "35m5QtbWiB9F"
      }
    },
    {
      "cell_type": "code",
      "source": [
        "# Dataset Duplicate Value Count\n",
        "airbnb_df.duplicated()"
      ],
      "metadata": {
        "id": "1sLdpKYkmox0"
      },
      "execution_count": null,
      "outputs": []
    },
    {
      "cell_type": "code",
      "source": [
        "airbnb_df.duplicated().sum()"
      ],
      "metadata": {
        "id": "HP5aVVa6E2IY"
      },
      "execution_count": null,
      "outputs": []
    },
    {
      "cell_type": "markdown",
      "source": [
        "#### Missing Values/Null Values"
      ],
      "metadata": {
        "id": "PoPl-ycgm1ru"
      }
    },
    {
      "cell_type": "code",
      "source": [
        "# Missing Values/Null Values Count\n",
        "airbnb_df.isnull().sum()"
      ],
      "metadata": {
        "id": "GgHWkxvamxVg"
      },
      "execution_count": null,
      "outputs": []
    },
    {
      "cell_type": "code",
      "source": [
        "# Visualizing the missing values\n",
        "missing_values = airbnb_df.isnull()\n",
        "\n",
        "# Plotting heatmap using seaborn\n",
        "plt.figure(figsize=(8, 6))\n",
        "sns.heatmap(missing_values, cmap='viridis', cbar=False)\n",
        "plt.title('Missing Values Heatmap')\n",
        "plt.show()"
      ],
      "metadata": {
        "id": "3q5wnI3om9sJ"
      },
      "execution_count": null,
      "outputs": []
    },
    {
      "cell_type": "code",
      "source": [
        "# Visualize missing values using a matrix\n",
        "msno.matrix(airbnb_df)"
      ],
      "metadata": {
        "id": "FJ6U8cpjLks_"
      },
      "execution_count": null,
      "outputs": []
    },
    {
      "cell_type": "code",
      "source": [],
      "metadata": {
        "id": "DAeCnnhPLfQT"
      },
      "execution_count": null,
      "outputs": []
    },
    {
      "cell_type": "markdown",
      "source": [
        "### What did you know about your dataset?"
      ],
      "metadata": {
        "id": "H0kj-8xxnORC"
      }
    },
    {
      "cell_type": "code",
      "source": [],
      "metadata": {
        "id": "rZhxJvijHHqb"
      },
      "execution_count": null,
      "outputs": []
    },
    {
      "cell_type": "markdown",
      "source": [
        "Answer: The following information we know about the data set\n",
        "* The dataset contains 48895 enteries with 16 columns\n",
        "* The dataset contains variables having data type of interger, float and object.\n",
        "* There are no duplicate values present in the dataset\n",
        "* The dataset provides information about Airbnb listings in New York City, including details about hosts, neighborhoods, room types, prices, minimum nights, reviews, and availability."
      ],
      "metadata": {
        "id": "gfoNAAC-nUe_"
      }
    },
    {
      "cell_type": "markdown",
      "source": [
        "## ***2. Understanding Your Variables***"
      ],
      "metadata": {
        "id": "nA9Y7ga8ng1Z"
      }
    },
    {
      "cell_type": "code",
      "source": [
        "# Dataset Columns\n",
        "airbnb_df.columns"
      ],
      "metadata": {
        "id": "j7xfkqrt5Ag5"
      },
      "execution_count": null,
      "outputs": []
    },
    {
      "cell_type": "code",
      "source": [
        "airbnb_df.dtypes"
      ],
      "metadata": {
        "id": "TcoWQ90HMAt_"
      },
      "execution_count": null,
      "outputs": []
    },
    {
      "cell_type": "code",
      "source": [
        "# Create a new DataFrame with column names and data types\n",
        "data_types_df = pd.DataFrame({'Column Name': airbnb_df.columns, 'Data Type': airbnb_df.dtypes})\n",
        "\n",
        "# Print the DataFrame\n",
        "print(data_types_df)"
      ],
      "metadata": {
        "id": "cVHCvu83MHBR"
      },
      "execution_count": null,
      "outputs": []
    },
    {
      "cell_type": "code",
      "source": [
        "# Dataset Describe\n",
        "airbnb_df.describe()"
      ],
      "metadata": {
        "id": "DnOaZdaE5Q5t"
      },
      "execution_count": null,
      "outputs": []
    },
    {
      "cell_type": "markdown",
      "source": [
        "### Variables Description"
      ],
      "metadata": {
        "id": "PBTbrJXOngz2"
      }
    },
    {
      "cell_type": "markdown",
      "source": [
        "Answer Here"
      ],
      "metadata": {
        "id": "aJV4KIxSnxay"
      }
    },
    {
      "cell_type": "markdown",
      "source": [
        "### Check Unique Values for each variable."
      ],
      "metadata": {
        "id": "u3PMJOP6ngxN"
      }
    },
    {
      "cell_type": "code",
      "source": [
        "# Check Unique Values for each variable.\n",
        "unique_values = airbnb_df.nunique()\n",
        "print(unique_values)"
      ],
      "metadata": {
        "id": "zms12Yq5n-jE"
      },
      "execution_count": null,
      "outputs": []
    },
    {
      "cell_type": "markdown",
      "source": [
        "## 3. ***Data Wrangling***"
      ],
      "metadata": {
        "id": "dauF4eBmngu3"
      }
    },
    {
      "cell_type": "markdown",
      "source": [
        "### Data Wrangling Code"
      ],
      "metadata": {
        "id": "bKJF3rekwFvQ"
      }
    },
    {
      "cell_type": "code",
      "source": [
        "# Write your code to make your dataset analysis ready.\n",
        "airbnb_df.duplicated().sum()"
      ],
      "metadata": {
        "id": "wk-9a2fpoLcV"
      },
      "execution_count": null,
      "outputs": []
    },
    {
      "cell_type": "markdown",
      "source": [
        "*There are no duplicate value in the dataset.So we will move forward but if duplicates are present we use*\n",
        "\n",
        "**airbnb_df.dropduplicates(inplace= True)**"
      ],
      "metadata": {
        "id": "H41PN-UNEofO"
      }
    },
    {
      "cell_type": "code",
      "source": [
        "airbnb_df.isnull().sum()"
      ],
      "metadata": {
        "id": "_OUYdqDOQ2c0"
      },
      "execution_count": null,
      "outputs": []
    },
    {
      "cell_type": "code",
      "source": [
        "airbnb_df.head(5)"
      ],
      "metadata": {
        "id": "0GGkQBT8SRGp"
      },
      "execution_count": null,
      "outputs": []
    },
    {
      "cell_type": "code",
      "source": [
        "#Imputing values in the empty enteries\n",
        "airbnb_df['name'].fillna(value='Unknown', inplace=True)\n",
        "airbnb_df['host_name'].fillna(value='None', inplace=True)\n",
        "airbnb_df['last_review'].fillna(value='Not Known', inplace=True)\n",
        "airbnb_df['reviews_per_month'].fillna(value=0, inplace=True)  # Using fillna directly\n",
        "airbnb_df['reviews_per_month'] = airbnb_df['reviews_per_month'].astype('int64')"
      ],
      "metadata": {
        "id": "94fv1ob6ZOtL"
      },
      "execution_count": null,
      "outputs": []
    },
    {
      "cell_type": "code",
      "source": [
        "airbnb_df.isnull().sum()"
      ],
      "metadata": {
        "id": "renEKkhEYUYq"
      },
      "execution_count": null,
      "outputs": []
    },
    {
      "cell_type": "markdown",
      "source": [
        "### What all manipulations have you done and insights you found?"
      ],
      "metadata": {
        "id": "MSa1f5Uengrz"
      }
    },
    {
      "cell_type": "markdown",
      "source": [
        "Answer Here. The manipulations I have done here are following.\n",
        "\n",
        "1. I have Checked whether any duplicates are present or not\n",
        "\n",
        "2. I have checked the nunber of missing values\n",
        "\n",
        "3. I have impute them with NA, Unknown and None to make data more symetrical for analyis and visualization.\n",
        "\n",
        "deleted the duplicate values and after wards I have"
      ],
      "metadata": {
        "id": "LbyXE7I1olp8"
      }
    },
    {
      "cell_type": "markdown",
      "source": [
        "## ***4. Data Vizualization, Storytelling & Experimenting with charts : Understand the relationships between variables***"
      ],
      "metadata": {
        "id": "GF8Ens_Soomf"
      }
    },
    {
      "cell_type": "markdown",
      "source": [
        "#### Chart - 1"
      ],
      "metadata": {
        "id": "0wOQAZs5pc--"
      }
    },
    {
      "cell_type": "code",
      "source": [
        "# Chart - 1 visualization code\n",
        "airbnb_df['neighbourhood_group'].value_counts()"
      ],
      "metadata": {
        "id": "7v_ESjsspbW7"
      },
      "execution_count": null,
      "outputs": []
    },
    {
      "cell_type": "code",
      "source": [
        "plt.figure(figsize=(8, 6))\n",
        "sns.countplot(x='neighbourhood_group', data=airbnb_df, order=airbnb_df['neighbourhood_group'].value_counts().index)\n",
        "\n",
        "# Add title and labels\n",
        "plt.title('Count of Listings by Neighborhood Group')\n",
        "plt.xlabel('Neighborhood Group')\n",
        "plt.ylabel('Count')\n",
        "\n",
        "# Rotate x-axis labels for better readability\n",
        "plt.xticks(rotation=45)\n",
        "\n",
        "# Show the plot\n",
        "plt.show()"
      ],
      "metadata": {
        "id": "6d2B1tA6f7xK"
      },
      "execution_count": null,
      "outputs": []
    },
    {
      "cell_type": "markdown",
      "source": [
        "##### 1. Why did you pick the specific chart?"
      ],
      "metadata": {
        "id": "K5QZ13OEpz2H"
      }
    },
    {
      "cell_type": "markdown",
      "source": [
        "Answer Here. I chose a bar chart because it effectively shows the number of listings across various neighborhood groups. Bar charts are ideal for comparing categorical values against numerical values, providing clear insights into which neighborhoods have the highest or lowest listings.\""
      ],
      "metadata": {
        "id": "XESiWehPqBRc"
      }
    },
    {
      "cell_type": "markdown",
      "source": [
        "##### 2. What is/are the insight(s) found from the chart?"
      ],
      "metadata": {
        "id": "lQ7QKXXCp7Bj"
      }
    },
    {
      "cell_type": "markdown",
      "source": [
        "Answer Here The insights I get from this chart is that Manhattan and Brooklyn have higher number of listing and Staten Island has lower number of listing. This might be because Manhattan is business capital and more people are interested in rental income than Staten Island."
      ],
      "metadata": {
        "id": "C_j1G7yiqdRP"
      }
    },
    {
      "cell_type": "markdown",
      "source": [
        "##### 3. Will the gained insights help creating a positive business impact?\n",
        "Are there any insights that lead to negative growth? Justify with specific reason."
      ],
      "metadata": {
        "id": "448CDAPjqfQr"
      }
    },
    {
      "cell_type": "markdown",
      "source": [
        "Answer: More number of listings in Manhattan means there is more demand of rental property here and more number of visitors are visiting this place. Also there are more number of homeowners residing in Manhattan  "
      ],
      "metadata": {
        "id": "3cspy4FjqxJW"
      }
    },
    {
      "cell_type": "markdown",
      "source": [
        "#### Chart - 2"
      ],
      "metadata": {
        "id": "KSlN3yHqYklG"
      }
    },
    {
      "cell_type": "code",
      "source": [
        "# Chart - 2 visualization code\n",
        "#airbnb price distribution\n",
        "plt.figure(figsize=(12, 5))\n",
        "\n",
        "# Set the seaborn theme to darkgrid\n",
        "sns.set_theme(style='darkgrid')\n",
        "\n",
        "# Create a histogram of the 'price' column of the Airbnb_df dataframe\n",
        "# using sns distplot function and specifying the color as red\n",
        "sns.histplot(airbnb_df['price'],kde = True,color=('y'))\n",
        "\n",
        "# Add labels to the x-axis and y-axis\n",
        "plt.xlabel('Price', fontsize=14)\n",
        "plt.ylabel('Density', fontsize=14)\n",
        "\n",
        "# Add a title to the plot\n",
        "plt.title('Distribution of Airbnb Prices with Kernel Density Estimate',fontsize=15)\n",
        "plt.xlim(0, 500)  # Adjust these values as needed to zoom in\n",
        "\n",
        "\n",
        "\n",
        "# Average Price by Room Type\n",
        "plt.figure(figsize=(8, 6))\n",
        "sns.barplot(x='room_type', y='price', data=airbnb_df)\n",
        "plt.title('Average Price by Room Type')\n",
        "plt.xlabel('Room Type')\n",
        "plt.ylabel('Average Price')\n",
        "plt.show()\n"
      ],
      "metadata": {
        "id": "R4YgtaqtYklH"
      },
      "execution_count": null,
      "outputs": []
    },
    {
      "cell_type": "markdown",
      "source": [
        "##### 1. Why did you pick the specific chart?"
      ],
      "metadata": {
        "id": "t6dVpIINYklI"
      }
    },
    {
      "cell_type": "code",
      "source": [],
      "metadata": {
        "id": "x1oBUiaSO7Az"
      },
      "execution_count": null,
      "outputs": []
    },
    {
      "cell_type": "markdown",
      "source": [
        "Answer: The visualization I used above is histogram and bar graph and the I use them for reason because Bar chart effectively compares numerical quantities.\n",
        "\n",
        "I have used histogram to show distribution of price. I used this chart because it very well and excellently explains the distribution in with kernal density."
      ],
      "metadata": {
        "id": "5aaW0BYyYklI"
      }
    },
    {
      "cell_type": "markdown",
      "source": [
        "##### 2. What is/are the insight(s) found from the chart?"
      ],
      "metadata": {
        "id": "ijmpgYnKYklI"
      }
    },
    {
      "cell_type": "markdown",
      "source": [
        "Answer: The insight I get from the histogram is that the price The range of prices being charged on Airbnb appears to be from 20 to 330 , with the majority of listings falling in : the price range of 50 to 150.\n",
        "The distribution of prices appears to have a peak in the 50 to 150 range, with a relatively lower density of listings in higher and lower price ranges.\n",
        "There may be fewer listings available at prices above 250 dollars , as the density of listings drops significantly in this range.\n",
        "\n",
        "The other visualization I used is Bar chart because it compared the average price of rooms according to room type which shows that the Entire/ Home Appartment has higher Average price ie 220 dollars and shared room has lower price ie 65 dollars  which also make sense"
      ],
      "metadata": {
        "id": "PSx9atu2YklI"
      }
    },
    {
      "cell_type": "markdown",
      "source": [],
      "metadata": {
        "id": "Xe-GCEvaCSnX"
      }
    },
    {
      "cell_type": "markdown",
      "source": [
        "##### 3. Will the gained insights help creating a positive business impact?\n",
        "Are there any insights that lead to negative growth? Justify with specific reason."
      ],
      "metadata": {
        "id": "-JiQyfWJYklI"
      }
    },
    {
      "cell_type": "markdown",
      "source": [
        "Answer: The insight gain from the above visualization is usefull and because we can find that why prices above 250 ? Are there any specific Neighbourhood Group which have higher prices or what might be the reason for that\n",
        "In second visualization we  get understanding that the the price of entire appartment is high as compared to others"
      ],
      "metadata": {
        "id": "BcBbebzrYklV"
      }
    },
    {
      "cell_type": "code",
      "source": [],
      "metadata": {
        "id": "apvB8p1JGxI1"
      },
      "execution_count": null,
      "outputs": []
    },
    {
      "cell_type": "markdown",
      "source": [
        "#### Chart - 3"
      ],
      "metadata": {
        "id": "EM7whBJCYoAo"
      }
    },
    {
      "cell_type": "code",
      "source": [
        "# Create a new column for price range\n",
        "price_bins = [0, 100, 200, 300, 400, 500, 600, float('inf')]\n",
        "price_labels = ['0-100', '100-200', '200-300', '300-400', '400-500', '500-600', '600+']\n",
        "airbnb_df['price_range'] = pd.cut(airbnb_df['price'], bins=price_bins, labels=price_labels, right=False)\n",
        "\n",
        "# Plot the scatter plot with the new price range column as hue\n",
        "plt.figure(figsize=(10, 6))\n",
        "sns.scatterplot(x='longitude', y='latitude', hue='price_range', data=airbnb_df, palette='viridis')\n",
        "plt.title('Map of Listings')\n",
        "plt.xlabel('Longitude')\n",
        "plt.ylabel('Latitude')\n",
        "plt.legend(title='Price Range')\n",
        "plt.show()"
      ],
      "metadata": {
        "id": "t6GMdE67YoAp"
      },
      "execution_count": null,
      "outputs": []
    },
    {
      "cell_type": "markdown",
      "source": [
        "##### 1. Why did you pick the specific chart?"
      ],
      "metadata": {
        "id": "fge-S5ZAYoAp"
      }
    },
    {
      "cell_type": "markdown",
      "source": [
        "\n",
        "\n",
        "```\n",
        "`# This is formatted as code`\n",
        "```\n",
        "\n",
        "Answer  The visualization used here is heatmap.Heatmap provide visual and geographical context of data. The heat map is used to show the price variation."
      ],
      "metadata": {
        "id": "5dBItgRVYoAp"
      }
    },
    {
      "cell_type": "markdown",
      "source": [
        "##### 2. What is/are the insight(s) found from the chart?"
      ],
      "metadata": {
        "id": "85gYPyotYoAp"
      }
    },
    {
      "cell_type": "markdown",
      "source": [
        "Answer: The heatmap used is showing price variation among the area where are the expensive and where are the affordable appartments  "
      ],
      "metadata": {
        "id": "4jstXR6OYoAp"
      }
    },
    {
      "cell_type": "markdown",
      "source": [
        "##### 3. Will the gained insights help creating a positive business impact?\n",
        "Are there any insights that lead to negative growth? Justify with specific reason."
      ],
      "metadata": {
        "id": "RoGjAbkUYoAp"
      }
    },
    {
      "cell_type": "markdown",
      "source": [
        "Answers: The gained insight tells us that the price 200-250 most of the population lies in this range and above 600 are only few.That are described by parrot green/light green\n",
        "\n",
        "---\n",
        "\n"
      ],
      "metadata": {
        "id": "zfJ8IqMcYoAp"
      }
    },
    {
      "cell_type": "markdown",
      "source": [
        "#### Chart - 4"
      ],
      "metadata": {
        "id": "4Of9eVA-YrdM"
      }
    },
    {
      "cell_type": "code",
      "source": [
        "# Chart - 4 visualization code\n",
        "# Calculate the distribution percentage\n",
        "neighbourhood_group_counts = airbnb_df['neighbourhood_group'].value_counts()\n",
        "neighbourhood_group_percentages = (neighbourhood_group_counts / neighbourhood_group_counts.sum()) * 100\n",
        "\n",
        "# Plot a pie chart\n",
        "plt.figure(figsize=(10, 7))\n",
        "plt.pie(neighbourhood_group_percentages, labels=neighbourhood_group_percentages.index, autopct='%1.1f%%', startangle=140, colors=plt.cm.tab20.colors)\n",
        "plt.title('Neighbourhood Group Distribution Percentage')\n",
        "plt.axis('equal')  # Equal aspect ratio ensures the pie chart is circular\n",
        "plt.show()"
      ],
      "metadata": {
        "id": "irlUoxc8YrdO"
      },
      "execution_count": null,
      "outputs": []
    },
    {
      "cell_type": "markdown",
      "source": [
        "##### 1. Why did you pick the specific chart?"
      ],
      "metadata": {
        "id": "iky9q4vBYrdO"
      }
    },
    {
      "cell_type": "markdown",
      "source": [
        "*Answer* :The visualization I used here is a Pie chart\n",
        "Pie charts are excellent for showing the proportion of whole categories. In this case, it’s used to show the proportion of reviews by neighborhood group in New York City. Each slice of the pie represents a different neighborhood, and the size of the slice corresponds to its proportion of the total reviews."
      ],
      "metadata": {
        "id": "aJRCwT6DYrdO"
      }
    },
    {
      "cell_type": "markdown",
      "source": [
        "##### 2. What is/are the insight(s) found from the chart?"
      ],
      "metadata": {
        "id": "F6T5p64dYrdO"
      }
    },
    {
      "cell_type": "markdown",
      "source": [
        "Answer:The insights we gain are **Manhattan** is the highest count neighbourhood group and **Staten Island** have minimum number of counts. As the graph says Manhattan has **44.3 %**  of the share and Staten Island has only **0.8%** share."
      ],
      "metadata": {
        "id": "Xx8WAJvtYrdO"
      }
    },
    {
      "cell_type": "markdown",
      "source": [
        "##### 3. Will the gained insights help creating a positive business impact?\n",
        "Are there any insights that lead to negative growth? Justify with specific reason."
      ],
      "metadata": {
        "id": "y-Ehk30pYrdP"
      }
    },
    {
      "cell_type": "markdown",
      "source": [
        "Answer: The insight we get is usefull as the visualization tells us that the Manhattan has more market share and Staten Island has less Market share that;s probably because Manahattan is a business capital .So more number of traders and visitors visit Mahantaan everyday where as the Staten Island is more of remote area and  or may be less visitor prone area"
      ],
      "metadata": {
        "id": "jLNxxz7MYrdP"
      }
    },
    {
      "cell_type": "markdown",
      "source": [
        "#### Chart - 5"
      ],
      "metadata": {
        "id": "bamQiAODYuh1"
      }
    },
    {
      "cell_type": "code",
      "source": [
        "# Chart - 5 visualization code\n",
        "plt.figure(figsize=(10, 6))\n",
        "plt.hist(airbnb_df['number_of_reviews'], bins=30, color='blue', edgecolor='black')\n",
        "plt.title('Number of Reviews Distribution')\n",
        "plt.xlabel('Number of Reviews')\n",
        "plt.ylabel('Frequency')\n",
        "plt.grid(True)\n",
        "\n",
        "# Set x-axis limits based on the minimum and maximum number of reviews\n",
        "plt.xlim(0,250)\n",
        "\n",
        "plt.show()"
      ],
      "metadata": {
        "id": "TIJwrbroYuh3"
      },
      "execution_count": null,
      "outputs": []
    },
    {
      "cell_type": "markdown",
      "source": [
        "##### 1. Why did you pick the specific chart?"
      ],
      "metadata": {
        "id": "QHF8YVU7Yuh3"
      }
    },
    {
      "cell_type": "markdown",
      "source": [
        "Answer: The visualization I used here is Histogram.\n",
        "\n",
        "**Histogram**: Histograms are used to display the distribution of a numerical variable in this case number of reviews"
      ],
      "metadata": {
        "id": "dcxuIMRPYuh3"
      }
    },
    {
      "cell_type": "markdown",
      "source": [
        "##### 2. What is/are the insight(s) found from the chart?"
      ],
      "metadata": {
        "id": "GwzvFGzlYuh3"
      }
    },
    {
      "cell_type": "markdown",
      "source": [
        "Answer:The Visualization here help us get a clear picture of distribution of number of reviews.So we can use this information to solve the problems faced by users.By finding how many people are leaving a review or how many are not. And with data we can ask user to leave us with reviews.So that business can improve"
      ],
      "metadata": {
        "id": "uyqkiB8YYuh3"
      }
    },
    {
      "cell_type": "markdown",
      "source": [
        "##### 3. Will the gained insights help creating a positive business impact?\n",
        "Are there any insights that lead to negative growth? Justify with specific reason."
      ],
      "metadata": {
        "id": "qYpmQ266Yuh3"
      }
    },
    {
      "cell_type": "markdown",
      "source": [
        "Answer: The gain information can be used\n",
        "**Optimizing Pricing and Marketing**: Listings with a higher number of reviews can justify higher pricing due to perceived popularity and positive guest feedback. Conversely, listings with lower review counts might benefit from targeted marketing campaigns or promotional strategies to increase visibility and bookings.\n",
        "\n",
        "**Improving Guest Satisfaction**: Insights from review distributions can highlight areas where improvements are needed in terms of amenities, cleanliness, or customer service. Addressing issues raised in reviews can lead to higher guest satisfaction, more positive reviews, and increased repeat bookings.\n",
        "\n",
        "**Strategic Planning**: Understanding seasonal trends in review distributions helps hosts anticipate demand fluctuations and adjust pricing and availability accordingly. For instance, during peak seasons with higher review counts, hosts might implement dynamic pricing strategies to maximize revenue."
      ],
      "metadata": {
        "id": "_WtzZ_hCYuh4"
      }
    },
    {
      "cell_type": "markdown",
      "source": [
        "#### Chart - 6"
      ],
      "metadata": {
        "id": "OH-pJp9IphqM"
      }
    },
    {
      "cell_type": "code",
      "source": [
        "# Chart - 6 visualization code\n",
        "# sns.countplot(data= airbnb_df, x = 'neighbourhood_group', hue = 'room_type')\n",
        "\n",
        "# Create a count plot using Seaborn\n",
        "sns.set(style=\"whitegrid\")\n",
        "plt.figure(figsize=(10, 6))\n",
        "sns.countplot(data=airbnb_df, x='neighbourhood_group', hue='room_type')\n",
        "\n",
        "# Add title to the plot\n",
        "plt.title('Distribution of Airbnb Listings by Room Type in Each Neighbourhood Group', fontsize=16)\n",
        "\n",
        "# Show the plot\n",
        "plt.show()"
      ],
      "metadata": {
        "id": "kuRf4wtuphqN"
      },
      "execution_count": null,
      "outputs": []
    },
    {
      "cell_type": "markdown",
      "source": [
        "##### 1. Why did you pick the specific chart?"
      ],
      "metadata": {
        "id": "bbFf2-_FphqN"
      }
    },
    {
      "cell_type": "markdown",
      "source": [
        "*Answer* : The Chart I pick here is Barchart.It is used to display different neigbourhood group and room type among them. The distribution of room type among different neighbourhood is seen by bars with different colors in the above visualization."
      ],
      "metadata": {
        "id": "loh7H2nzphqN"
      }
    },
    {
      "cell_type": "markdown",
      "source": [
        "##### 2. What is/are the insight(s) found from the chart?"
      ],
      "metadata": {
        "id": "_ouA3fa0phqN"
      }
    },
    {
      "cell_type": "markdown",
      "source": [
        "Answer: The Insight I find from the above visualization is Staten Island and Broonx does not have the concept of Shared Room probably because these are near to rural areas or there is not an issue of space. So here only two types of Room either Private Room  or either Entire Home/appartmnet  listing  is meaning full But in future near the crowded areas we can Find the opportunity and invest.\n"
      ],
      "metadata": {
        "id": "VECbqPI7phqN"
      }
    },
    {
      "cell_type": "markdown",
      "source": [
        "##### 3. Will the gained insights help creating a positive business impact?\n",
        "Are there any insights that lead to negative growth? Justify with specific reason."
      ],
      "metadata": {
        "id": "Seke61FWphqN"
      }
    },
    {
      "cell_type": "markdown",
      "source": [
        "Answer: The Room type prefference in the different neighbourhood let us know the people needs and demand and we can optimize the platform accordingly."
      ],
      "metadata": {
        "id": "DW4_bGpfphqN"
      }
    },
    {
      "cell_type": "markdown",
      "source": [
        "#### Chart - 7"
      ],
      "metadata": {
        "id": "PIIx-8_IphqN"
      }
    },
    {
      "cell_type": "code",
      "source": [
        "# Chart - 7 visualization code\n",
        "plt.figure(figsize=(10, 6))\n",
        "sns.scatterplot(x='longitude', y='latitude', hue='neighbourhood_group', data=airbnb_df, palette='viridis')\n",
        "plt.title('Map of Listings')\n",
        "plt.xlabel('Longitude')\n",
        "plt.ylabel('Latitude')\n",
        "plt.show()"
      ],
      "metadata": {
        "id": "lqAIGUfyphqO"
      },
      "execution_count": null,
      "outputs": []
    },
    {
      "cell_type": "markdown",
      "source": [
        "##### 1. Why did you pick the specific chart?"
      ],
      "metadata": {
        "id": "t27r6nlMphqO"
      }
    },
    {
      "cell_type": "markdown",
      "source": [
        "Answer: The Visualization I choose above is scatter plot. A scatter plot is effective for visualizing geospatial data, such as longitude and latitude coordinates. Each point on the plot represents a specific location on a map, which in this case corresponds to Airbnb listings."
      ],
      "metadata": {
        "id": "iv6ro40sphqO"
      }
    },
    {
      "cell_type": "markdown",
      "source": [
        "##### 2. What is/are the insight(s) found from the chart?"
      ],
      "metadata": {
        "id": "r2jJGEOYphqO"
      }
    },
    {
      "cell_type": "markdown",
      "source": [
        "\n",
        "Answer:The plot can reveal the spatial distribution of Airbnb listings across the geographical area covered by the dataset. You can observe whether listings are concentrated in specific regions or spread out evenly across the map.\n",
        "\n"
      ],
      "metadata": {
        "id": "Po6ZPi4hphqO"
      }
    },
    {
      "cell_type": "markdown",
      "source": [
        "##### 3. Will the gained insights help creating a positive business impact?\n",
        "Are there any insights that lead to negative growth? Justify with specific reason.\n",
        "\n",
        "Positive Impact:\n",
        "\n",
        "**Strategic Pricing:**:Buisnesses which are already in the business of Food and hospitality, real estate can use this data to strategically price their listings based on the data in differrent Neighbourhood.\n",
        "\n",
        "**Investment Decisions:** This data can guide businesses on where to invest in new properties. Areas with higher prices might indicate high demand and could be lucrative investment opportunities.\n",
        "\n",
        "**Potential Negative Impact:**\n",
        "\n",
        "**Over-reliance on Data:** While the heatmap provides valuable insights, over-reliance on this data could lead to missed opportunities. For instance, areas with lower prices might be up-and-coming neighborhoods with potential for growth.\n",
        "\n",
        "**Neglecting Other Factors:** Price is just one factor to consider. Other factors like property condition, local amenities, and future development plans also significantly impact the business."
      ],
      "metadata": {
        "id": "b0JNsNcRphqO"
      }
    },
    {
      "cell_type": "markdown",
      "source": [
        "Answer Here"
      ],
      "metadata": {
        "id": "xvSq8iUTphqO"
      }
    },
    {
      "cell_type": "markdown",
      "source": [
        "#### Chart - 8"
      ],
      "metadata": {
        "id": "BZR9WyysphqO"
      }
    },
    {
      "cell_type": "code",
      "source": [
        "# Chart - 8 visualization code\n",
        "# Calculate the number of listings in top 10 neighbourhood\n",
        "neighbourhood_counts = airbnb_df['neighbourhood'].value_counts().reset_index().head(10)\n",
        "neighbourhood_counts.columns = ['Neighbourhood', 'Listings Count']\n",
        "\n",
        "# Create an interactive bar chart using Plotly\n",
        "fig = px.bar(neighbourhood_counts, x='Neighbourhood', y='Listings Count',\n",
        "             title='Listings Count by Neighbourhood',\n",
        "             labels={'Listings Count': 'Number of Listings'},\n",
        "             color='Listings Count',\n",
        "             color_continuous_scale=px.colors.sequential.Viridis)\n",
        "\n",
        "fig.update_layout(xaxis_title='Neighbourhood', yaxis_title='Number of Listings', title_font_size=20)\n",
        "fig.show()"
      ],
      "metadata": {
        "id": "TdPTWpAVphqO"
      },
      "execution_count": null,
      "outputs": []
    },
    {
      "cell_type": "markdown",
      "source": [
        "##### 1. Why did you pick the specific chart?"
      ],
      "metadata": {
        "id": "jj7wYXLtphqO"
      }
    },
    {
      "cell_type": "markdown",
      "source": [
        "Answer:Thre visualization I pick here is Bar chart. Bar chart is excellent in comparing the catorical variables with numerical values and give better insight of Data. In this case different bars represent different neighbourhood and the height of bar shows the number of listings . For example in this case Williamsburg has maximum numberof listings ie 3920. The above visualization shows top 10 neighbourhoods according to their listings."
      ],
      "metadata": {
        "id": "Ob8u6rCTphqO"
      }
    },
    {
      "cell_type": "markdown",
      "source": [
        "##### 2. What is/are the insight(s) found from the chart?"
      ],
      "metadata": {
        "id": "eZrbJ2SmphqO"
      }
    },
    {
      "cell_type": "markdown",
      "source": [
        "Answer: The Insight here is helpful in finding the number of listings in different neighbourhoods and after the neighbourhood this can be sub classification to dive deep into the data and find the available scope of improvement."
      ],
      "metadata": {
        "id": "mZtgC_hjphqO"
      }
    },
    {
      "cell_type": "markdown",
      "source": [
        "##### 3. Will the gained insights help creating a positive business impact?\n",
        "Are there any insights that lead to negative growth? Justify with specific reason."
      ],
      "metadata": {
        "id": "rFu4xreNphqO"
      }
    },
    {
      "cell_type": "markdown",
      "source": [
        "Answer: The insight we find here can help solve many problems.\n",
        "**Strategic planning**: These insights are used to plan investment and calculate which are the popular neighbourhood and how many listings are in each of them ??\n",
        "\n",
        "**Finding Competitions**: The insight can be usefull in finding competition among hosts, Also if they are planning to buy or construct a property for business purpose which neighbourhood would be best for them and howmany people they have to compete with."
      ],
      "metadata": {
        "id": "ey_0qi68phqO"
      }
    },
    {
      "cell_type": "markdown",
      "source": [
        "#### Chart - 9"
      ],
      "metadata": {
        "id": "YJ55k-q6phqO"
      }
    },
    {
      "cell_type": "code",
      "source": [
        "# Chart - 9 visualization code\n",
        "# Create an interactive map of listings using Plotly Express\n",
        "fig = px.scatter_mapbox(airbnb_df,\n",
        "                        lat='latitude',\n",
        "                        lon='longitude',\n",
        "                        color_continuous_scale=px.colors.cyclical.IceFire,\n",
        "                        size_max=15,\n",
        "                        zoom=10)\n",
        "fig.update_layout(mapbox_style='open-street-map')\n",
        "fig.update_layout(title='Map of Airbnb Listings')\n",
        "fig.show()"
      ],
      "metadata": {
        "id": "B2aS4O1ophqO"
      },
      "execution_count": null,
      "outputs": []
    },
    {
      "cell_type": "markdown",
      "source": [
        "##### 1. Why did you pick the specific chart?"
      ],
      "metadata": {
        "id": "gCFgpxoyphqP"
      }
    },
    {
      "cell_type": "markdown",
      "source": [
        "Answer:\n",
        "**Geographical Distribution**: You can observe the clustering or dispersion of Airbnb listings across the map. Concentrations of markers indicate areas with higher density of listings, which can signify popular or densely populated regions.\n",
        "\n",
        "**Spatial Relationships**: Insights into proximity to amenities, attractions, or city centers can be inferred by the distribution of markers. Listings closer to central areas might attract higher demand or command premium pricing.\n",
        "\n",
        "**Market Insights**: Patterns in listing distribution can reveal potential gaps or opportunities in specific neighborhoods or regions, guiding strategic decisions for property acquisition or marketing efforts."
      ],
      "metadata": {
        "id": "TVxDimi2phqP"
      }
    },
    {
      "cell_type": "markdown",
      "source": [
        "Answer Here"
      ],
      "metadata": {
        "id": "tBpY5ekJphqQ"
      }
    },
    {
      "cell_type": "markdown",
      "source": [
        "#### Chart - 10"
      ],
      "metadata": {
        "id": "U2RJ9gkRphqQ"
      }
    },
    {
      "cell_type": "code",
      "source": [
        "# Chart - 10 visualization code\n",
        "# Group the DataFrame by the minimum_nights column and count the number of rows in each group\n",
        "min_nights_count = airbnb_df.groupby('minimum_nights').size().reset_index(name = 'count')\n",
        "\n",
        "# Sort the resulting DataFrame in descending order by the count column\n",
        "min_nights_count = min_nights_count.sort_values('count', ascending=False)\n",
        "\n",
        "# Select the top 10 rows\n",
        "min_nights_count = min_nights_count.head(15)\n",
        "\n",
        "# Reset the index\n",
        "min_nights_count = min_nights_count.reset_index(drop=True)\n",
        "\n",
        "# Extract the minimum_nights and count columns from the DataFrame\n",
        "minimum_nights = min_nights_count['minimum_nights']\n",
        "count = min_nights_count['count']\n",
        "\n",
        "# Set the figure size\n",
        "plt.figure(figsize=(12, 4))\n",
        "\n",
        "# Create the bar plot\n",
        "plt.bar(minimum_nights, count)\n",
        "\n",
        "# Add axis labels and a title\n",
        "plt.xlabel('Minimum Nights', fontsize='14')\n",
        "plt.ylabel('Count', fontsize='14')\n",
        "plt.title('Stay Requirement by Minimum Nights', fontsize='15')\n",
        "\n",
        "# Show the plot\n",
        "plt.show()\n",
        "\n"
      ],
      "metadata": {
        "id": "GM7a4YP4phqQ"
      },
      "execution_count": null,
      "outputs": []
    },
    {
      "cell_type": "markdown",
      "source": [
        "##### 1. Why did you pick the specific chart?"
      ],
      "metadata": {
        "id": "1M8mcRywphqQ"
      }
    },
    {
      "cell_type": "markdown",
      "source": [
        "Answer: I pick the following chart because Bar graph is excellently used to compare two categories. For Example in this case the individual bar is used to show minimum number of nights and the height of the bar is used to show the count of different minimum number of nights\n",
        "\n",
        "\n",
        "\n"
      ],
      "metadata": {
        "id": "8agQvks0phqQ"
      }
    },
    {
      "cell_type": "markdown",
      "source": [
        "##### 2. What is/are the insight(s) found from the chart?"
      ],
      "metadata": {
        "id": "tgIPom80phqQ"
      }
    },
    {
      "cell_type": "markdown",
      "source": [
        "Answer: The insight we got from this visualization is that the majority of the people are booking the listing for one night ie nearly (12700).For 2 nights the listing count is around (11600). for 3 night the count is nearly (8000).\n",
        "As the number of nights are increasing the listing count is dicreasing. This goes upto 5 minimum number of nihts and after that there is sudden drop in the listing and we can say barely no listing.\n",
        "After that few listings in 10 nights, 15 nights the count is nominal but gradually increasing at 30 nights. the listing count is increasing which also  makes sense beacsue there are people who might have book the place for one month."
      ],
      "metadata": {
        "id": "Qp13pnNzphqQ"
      }
    },
    {
      "cell_type": "markdown",
      "source": [],
      "metadata": {
        "id": "xW-rMY4WV_XE"
      }
    },
    {
      "cell_type": "markdown",
      "source": [],
      "metadata": {
        "id": "iY0as5Wwd_vc"
      }
    },
    {
      "cell_type": "markdown",
      "source": [
        "##### 3. Will the gained insights help creating a positive business impact?\n"
      ],
      "metadata": {
        "id": "JMzcOPDDphqR"
      }
    },
    {
      "cell_type": "markdown",
      "source": [
        "Answer: The gained insight help in providing good facilities to the  costumers\n",
        "\n",
        "**Strategic Pricing**: Recognizing high demand for specific stay durations (e.g., 5 nights) allows businesses to implement premium pricing strategies for these sought-after options. Adjusting prices accordingly can capitalize on customer preferences and maximize profitability.\n",
        "\n"
      ],
      "metadata": {
        "id": "R4Ka1PC2phqR"
      }
    },
    {
      "cell_type": "markdown",
      "source": [
        "#### Chart - 11"
      ],
      "metadata": {
        "id": "x-EpHcCOp1ci"
      }
    },
    {
      "cell_type": "code",
      "source": [
        "# Chart - 11 visualization code\n",
        "# Calculate the percentage distribution of room types\n",
        "room_type_counts = airbnb_df['room_type'].value_counts()\n",
        "room_type_percentages = room_type_counts / room_type_counts.sum() * 100\n",
        "\n",
        "# Plot a pie chart of room type percentages\n",
        "plt.figure(figsize=(10, 6))\n",
        "plt.pie(room_type_percentages, labels=room_type_percentages.index, autopct='%1.1f%%',\n",
        "        startangle=140, colors=sns.color_palette('pastel'))\n",
        "plt.title('Percentage Distribution of Room Types')\n",
        "plt.axis('equal')  # Equal aspect ratio ensures that pie is drawn as a circle.\n",
        "plt.show()"
      ],
      "metadata": {
        "id": "mAQTIvtqp1cj"
      },
      "execution_count": null,
      "outputs": []
    },
    {
      "cell_type": "markdown",
      "source": [
        "##### 1. Why did you pick the specific chart?"
      ],
      "metadata": {
        "id": "X_VqEhTip1ck"
      }
    },
    {
      "cell_type": "markdown",
      "source": [
        "Answer: The chari I picked here is a Pie chart because when we have to visualize proportion of whole or percentage of whole.Pie chart are excellent to show this visualization"
      ],
      "metadata": {
        "id": "-vsMzt_np1ck"
      }
    },
    {
      "cell_type": "markdown",
      "source": [
        "##### 2. What is/are the insight(s) found from the chart?"
      ],
      "metadata": {
        "id": "8zGJKyg5p1ck"
      }
    },
    {
      "cell_type": "markdown",
      "source": [
        "Answer: The insights we find from this visualization Shared Room has lowest proportion of percentage ie (2.4%) and the Entire/Room has higher percentage (52%)\n",
        "* **Enire Home/Dept** : 52 %\n",
        "* **Privare Room** : 45.7%\n",
        "* **Shared Room** : 2.4%\n"
      ],
      "metadata": {
        "id": "ZYdMsrqVp1ck"
      }
    },
    {
      "cell_type": "markdown",
      "source": [
        "##### 3. Will the gained insights help creating a positive business impact?\n",
        "Are there any insights that lead to negative growth? Justify with specific reason."
      ],
      "metadata": {
        "id": "PVzmfK_Ep1ck"
      }
    },
    {
      "cell_type": "markdown",
      "source": [
        "Answer: The insight here can be used to solve Business probelm\n",
        "\n",
        "* **Shared Room** : There is a lot of scope in this category.The shared room is only 2.4%. We can analyze the area in which concept of shared room is working and the use the caliculation to find new areas to invest in that concept in which this concept can be resourcefull. Also where the prices are going high we can use and invest in Shared Room concept.   "
      ],
      "metadata": {
        "id": "druuKYZpp1ck"
      }
    },
    {
      "cell_type": "markdown",
      "source": [
        "#### Chart - 12"
      ],
      "metadata": {
        "id": "n3dbpmDWp1ck"
      }
    },
    {
      "cell_type": "code",
      "source": [
        "# Chart - 12 visualization code\n",
        "airbnb_df['last_review'] = pd.to_datetime(airbnb_df['last_review'], errors='coerce')\n",
        "\n",
        "# Drop rows where 'last_review' is NaT (Not a Time)\n",
        "airbnb_df = airbnb_df.dropna(subset=['last_review'])\n",
        "\n",
        "# Set the 'last_review' column as the index\n",
        "airbnb_df.set_index('last_review', inplace=True)\n",
        "\n",
        "# Verify the index is a DatetimeIndex\n",
        "print(type(airbnb_df.index))  # Should output <class 'pandas.core.indexes.datetimes.DatetimeIndex'>\n",
        "\n",
        "# Resample to monthly frequency, calculating the mean price for each month\n",
        "monthly_avg_price = airbnb_df['price'].resample('M').mean()\n",
        "\n",
        "# Reset the index to get 'last_review' back as a column\n",
        "monthly_avg_price = monthly_avg_price.reset_index()\n",
        "\n",
        "# Plot a line chart\n",
        "plt.figure(figsize=(12, 6))\n",
        "plt.plot(monthly_avg_price['last_review'], monthly_avg_price['price'], marker='o', linestyle='-')\n",
        "plt.title('Average Price per Month')\n",
        "plt.xlabel('Month')\n",
        "plt.ylabel('Average Price')\n",
        "plt.grid(True)\n",
        "plt.xticks(rotation=45)\n",
        "plt.show()"
      ],
      "metadata": {
        "id": "bwevp1tKp1ck"
      },
      "execution_count": null,
      "outputs": []
    },
    {
      "cell_type": "markdown",
      "source": [
        "##### 1. Why did you pick the specific chart?"
      ],
      "metadata": {
        "id": "ylSl6qgtp1ck"
      }
    },
    {
      "cell_type": "markdown",
      "source": [
        "*Answer* :The visualization I picked here is **Line Chart**\n",
        "\n",
        "**Line graphs**  are great for showing trends over a variable, which can be time, In this case Average price is seen with years from **2011** to **2019**."
      ],
      "metadata": {
        "id": "m2xqNkiQp1ck"
      }
    },
    {
      "cell_type": "markdown",
      "source": [
        "##### 2. What is/are the insight(s) found from the chart?"
      ],
      "metadata": {
        "id": "ZWILFDl5p1ck"
      }
    },
    {
      "cell_type": "markdown",
      "source": [
        "Answer: The insight we gain from the above visualization is that in 2013 last 4 months the Average price skyrocketed but immidiately in 2014 first few months,but interestingly there is  great depression in first four months."
      ],
      "metadata": {
        "id": "x-lUsV2mp1ck"
      }
    },
    {
      "cell_type": "markdown",
      "source": [
        "##### 3. Will the gained insights help creating a positive business impact?\n",
        "Are there any insights that lead to negative growth? Justify with specific reason."
      ],
      "metadata": {
        "id": "M7G43BXep1ck"
      }
    },
    {
      "cell_type": "markdown",
      "source": [
        "Answer: The insight here is helpfull in analyzing the trends . The trends shows that from 2017 to 2019 the Average price are stable. But before that we see a lot of randomness in the prices. In year 2013 and 2015 prices are skyrockted and also deprssion in 2014. This suggest that there might be some hikes of taxes or might be some event in those quarter of year."
      ],
      "metadata": {
        "id": "5wwDJXsLp1cl"
      }
    },
    {
      "cell_type": "markdown",
      "source": [
        "#### Chart - 13"
      ],
      "metadata": {
        "id": "Ag9LCva-p1cl"
      }
    },
    {
      "cell_type": "code",
      "source": [
        "# Chart - 13 visualization code\n",
        "plt.figure(figsize=(10, 6))\n",
        "sns.scatterplot(x='longitude', y='latitude', hue='room_type', data=airbnb_df, palette='Blues')\n",
        "plt.title('Map of Listings')\n",
        "plt.xlabel('Longitude')\n",
        "plt.ylabel('Latitude')\n",
        "plt.show()"
      ],
      "metadata": {
        "id": "EUfxeq9-p1cl"
      },
      "execution_count": null,
      "outputs": []
    },
    {
      "cell_type": "markdown",
      "source": [
        "##### 1. Why did you pick the specific chart?"
      ],
      "metadata": {
        "id": "E6MkPsBcp1cl"
      }
    },
    {
      "cell_type": "markdown",
      "source": [
        "Answer:The Chart I picked here is a heatmap. The heatmap provide geographical context of data.It displays the distribution of Airbnb listings across longitude and latitude, with each point colored according to the type of room (using the 'viridis' color palette)."
      ],
      "metadata": {
        "id": "V22bRsFWp1cl"
      }
    },
    {
      "cell_type": "markdown",
      "source": [
        "##### 2. What is/are the insight(s) found from the chart?"
      ],
      "metadata": {
        "id": "2cELzS2fp1cl"
      }
    },
    {
      "cell_type": "markdown",
      "source": [
        "Answer: The Distribution of listings according to the room type across  latitude and longitude . The colors show placement of different room type nad give us  rough idea of how the listing is distributed geospatically.The gradient of the color describes the clear visual represenatation.The color yellow is used to describe shared room, green is used for Entire/Home appartment and purple is used to describe Private Room. The insight we gain from this is as we move towards outskirts of urban area there is no concept of shared room oe may be very less ie in queens and Staten Island."
      ],
      "metadata": {
        "id": "ozQPc2_Ip1cl"
      }
    },
    {
      "cell_type": "markdown",
      "source": [
        "##### 3. Will the gained insights help creating a positive business impact?\n",
        "Are there any insights that lead to negative growth? Justify with specific reason."
      ],
      "metadata": {
        "id": "3MPXvC8up1cl"
      }
    },
    {
      "cell_type": "markdown",
      "source": [
        "*Answer*: The insight we got from the above visualization can be used to anaylze the geographical area in which we can use find scope of improvement.\n",
        "* **Manhattan**: The Manhattan has a lot of Private rooms but also the prices in Manhattan is most visted state by number of visitors where a lot of business travel happen and shared room concepts for students and interns can be improved and invested in the Area.   "
      ],
      "metadata": {
        "id": "GL8l1tdLp1cl"
      }
    },
    {
      "cell_type": "markdown",
      "source": [
        "#### Chart - 14 - Correlation Heatmap"
      ],
      "metadata": {
        "id": "NC_X3p0fY2L0"
      }
    },
    {
      "cell_type": "code",
      "source": [
        "# Correlation Heatmap visualization code\n",
        "# Calculate the correlation matrix for num_df1\n",
        "numeric_columns = airbnb_df.select_dtypes(include='number')\n",
        "correlation_matrix_num = numeric_columns.corr()\n",
        "\n",
        "# Create a heatmap using seaborn\n",
        "plt.figure(figsize=(8, 8))\n",
        "sns.heatmap(correlation_matrix_num, annot=True, cmap='coolwarm', fmt=\".2f\", linewidths=.5)\n",
        "plt.title('Correlation Heatmap for Numerical Columns')\n",
        "plt.show()\n"
      ],
      "metadata": {
        "id": "xyC9zolEZNRQ"
      },
      "execution_count": null,
      "outputs": []
    },
    {
      "cell_type": "markdown",
      "source": [
        "##### 1. Why did you pick the specific chart?"
      ],
      "metadata": {
        "id": "UV0SzAkaZNRQ"
      }
    },
    {
      "cell_type": "markdown",
      "source": [
        "Answer:\n",
        "* Heatmaps visually summarize complex datasets using color coding.\n",
        "* Darker colors signify stronger correlations between variables.\n",
        "* They allow for efficient simultaneous analysis of relationships across all variables.\n",
        "* Heatmaps help identify patterns and relationships that may be less obvious in raw data."
      ],
      "metadata": {
        "id": "DVPuT8LYZNRQ"
      }
    },
    {
      "cell_type": "markdown",
      "source": [
        "##### 2. What is/are the insight(s) found from the chart?"
      ],
      "metadata": {
        "id": "YPEH6qLeZNRQ"
      }
    },
    {
      "cell_type": "markdown",
      "source": [
        "Answer Here:\n",
        "The above Heatmap provides the following relationship between the variables\n",
        " * **Number of reviews and Reviews per month**: The corelation between number_of_reviews and reviews_per_month is high and positive ie (0.52).This suggest that the listing having more reviews_per_month have more number_of_reviews\n",
        "\n",
        " * **Number of reviews and id** : The Corelation between number_of_reviews and id is slightly negative ie  (0.33)\n",
        " * **Price and Number of Reviews**The corelation between price and number_of_reviws is near to zero or slightly negative which insite that there is no relation between them\n",
        "\n",
        " * **Price and availability_365**:There is not much relation between price and availability_365 ie (0.08)"
      ],
      "metadata": {
        "id": "bfSqtnDqZNRR"
      }
    },
    {
      "cell_type": "markdown",
      "source": [
        "#### Chart - 15 - Pair Plot"
      ],
      "metadata": {
        "id": "q29F0dvdveiT"
      }
    },
    {
      "cell_type": "code",
      "source": [
        "# Pair Plot visualization code\n",
        "numeric_columns = airbnb_df.select_dtypes(include='number')\n",
        "\n",
        "# Create a pairplot\n",
        "sns.pairplot(numeric_columns)\n",
        "plt.show()"
      ],
      "metadata": {
        "id": "o58-TEIhveiU"
      },
      "execution_count": null,
      "outputs": []
    },
    {
      "cell_type": "markdown",
      "source": [
        "##### 1. Why did you pick the specific chart?"
      ],
      "metadata": {
        "id": "EXh0U9oCveiU"
      }
    },
    {
      "cell_type": "markdown",
      "source": [
        "Answer:\n",
        "Visualizing Relationships with Pairplot\n",
        "\n",
        "**Pairplot Overview:**\n",
        "Seaborn's pairplot function helps visualize the relationships between different variables in a dataset. It creates a matrix of plots showing both individual (univariate) distributions and relationships between pairs of variables (bivariate distributions).\n",
        "\n",
        "**Handling Variable Types:**\n",
        "pairplot can manage both continuous and categorical variables, making it a versatile tool for diverse datasets.\n",
        "\n",
        "**Univariate and Bivariate Distributions:**\n",
        "The diagonal plots show the distribution of individual variables, while the off-diagonal plots show how pairs of variables relate to each other.\n",
        "\n",
        "**High-Level Interface:**\n",
        "Seaborn offers an easy-to-use, high-level interface for creating informative and attractive statistical graphics."
      ],
      "metadata": {
        "id": "eMmPjTByveiU"
      }
    },
    {
      "cell_type": "markdown",
      "source": [
        "##### 2. What is/are the insight(s) found from the chart?"
      ],
      "metadata": {
        "id": "22aHeOlLveiV"
      }
    },
    {
      "cell_type": "markdown",
      "source": [
        "Answer:\n",
        "\n",
        "**Price and Minimum Nights:** There seems to be no strong linear relationship between price and minimum nights. Prices vary widely regardless of the minimum nights required.\n",
        "\n",
        "**Number of Reviews and Reviews per Month:** There's a positive correlation between the number of reviews and reviews per month. Listings with more reviews per month tend to have a higher total number of reviews.\n",
        "\n",
        "**Price and Availability:** Price and availability don't show a clear linear relationship. Some expensive listings are available all year, while some affordable ones aren't.\n",
        "\n",
        "**Number of Reviews and Availability:** Listings with higher availability tend to have more reviews, which might indicate that popular listings are available more often.\n",
        "\n",
        "**Price and Number of Reviews:** Price and the number of reviews don't have a clear linear relationship. Some highly-priced listings have many reviews, while some don't.\n",
        "\n",
        "In summary, the pair plot helps us understand how different numerical features in the dataset relate to each other, which can be useful for making data-driven decisions for Airbnb hosting."
      ],
      "metadata": {
        "id": "uPQ8RGwHveiV"
      }
    },
    {
      "cell_type": "markdown",
      "source": [
        "## **5. Solution to Business Objective**"
      ],
      "metadata": {
        "id": "JcMwzZxoAimU"
      }
    },
    {
      "cell_type": "markdown",
      "source": [
        "#### What do you suggest the client to achieve Business Objective ?\n",
        "Explain Briefly."
      ],
      "metadata": {
        "id": "8G2x9gOozGDZ"
      }
    },
    {
      "cell_type": "markdown",
      "source": [
        "Answer:\n",
        "\n",
        "**1. Optimize Listing Distribution:**\n",
        "Data-Driven Insights: Utilize analytics to pinpoint high-demand and emerging neighborhoods.\n",
        "Execution: Encourage new listings in these areas by offering incentives, ensuring balanced distribution across key locations.\n",
        "**2. Dynamic Pricing Strategies:**\n",
        "Data-Driven Insights: Develop a pricing strategy that incorporates seasonal trends, local events, and historical data.\n",
        "Execution: Implement machine learning to continually update prices and provide hosts with optimal pricing recommendations.\n",
        "**3. Host Recognition and Engagement:**\n",
        "Data-Driven Insights: Identify and reward top hosts based on guest reviews and booking frequency.\n",
        "Execution: Create a rewards program, and organize training sessions and community events to engage and support hosts.\n",
        "**4. Enhance Guest Experience:**\n",
        "Data-Driven Insights: Analyze guest feedback to pinpoint common issues and areas for improvement.\n",
        "Execution: Provide hosts with actionable feedback and resources to improve amenities and communication, establishing a continuous improvement loop.\n",
        "**5. Strategic Investment in Neighborhoods:**\n",
        "Data-Driven Insights: Focus investments on neighborhoods with high listings and demand.\n",
        "Execution: Collaborate with local businesses and invest in neighborhood enhancement projects to boost attractiveness and safety.\n",
        "**6. Geographical Insights for Marketing:**\n",
        "Data-Driven Insights: Utilize geographical data to understand guest trends and preferences by region.\n",
        "Execution: Tailor marketing campaigns to highlight unique neighborhood features and target specific guest experiences.\n",
        "**7. Optimize Minimum Nights Stayed Policies:**\n",
        "Data-Driven Insights: Analyze booking data to understand the impact of minimum stay policies.\n",
        "Execution: Adjust minimum stay requirements to balance guest convenience and host profitability, providing data-driven recommendations to hosts.\n",
        "**8. Diversify Offerings in Cost-Friendly Areas:**\n",
        "Data-Driven Insights: Identify budget-friendly neighborhoods with potential for increased demand.\n",
        "Execution: Encourage hosts to offer a variety of accommodations and introduce promotions to attract budget-conscious travelers.\n",
        "**9. Regularly Review and Adapt Strategies:**\n",
        "Data-Driven Insights: Continuously monitor market trends, competitor actions, and guest feedback.\n",
        "Execution: Establish a regular review process to evaluate and adjust strategies based on data analytics, ensuring agility in a dynamic market.\n",
        "Additional Recommendations:\n",
        "Sustainability Initiatives: Promote eco-friendly practices among hosts to attract environmentally conscious travelers.\n",
        "Technology Integration: Invest in advanced technologies like AI-powered customer service, virtual tours, and seamless payment systems.\n",
        "Localized Experiences: Partner with local entities to offer unique experiences, such as guided tours and cultural activities, to enhance guest stays.\n",
        "By implementing these refined strategies, Airbnb can optimize its operations, improve experiences for both guests and hosts, and maximize profitability across various neighborhoods. Leveraging data analytics will ensure the business remains responsive to market changes and evolving customer preferences."
      ],
      "metadata": {
        "id": "pASKb0qOza21"
      }
    },
    {
      "cell_type": "markdown",
      "source": [
        "# **Conclusion**\n",
        "The Airbnb EDA Analysis project has yielded significant insights into the New York City Airbnb market. By examining listings distribution, pricing strategies, host performance, and guest behavior, the analysis offers valuable guidance for improving business strategies.\n",
        "\n",
        "Key recommendations include optimizing listing distribution across neighborhoods, refining pricing strategies to balance competitiveness and revenue, and recognizing top hosts to foster a positive ecosystem. Enhancements based on guest feedback aim to elevate the guest experience.\n",
        "\n",
        "Seasonal guest trends, neighborhood investment strategies, and geographical pricing insights provide a foundation for targeted marketing and resource allocation. The detailed exploration of neighborhood dynamics through visual tools like sunburst charts enables more precise marketing efforts.\n",
        "\n",
        "Overall, the findings emphasize the importance of staying adaptive to market changes, understanding guest preferences, and employing flexible strategies to enhance business outcomes. These insights empower hosts to make informed decisions and contribute to the dynamic and efficient Airbnb marketplace in New York City.\n",
        "\n",
        "\n",
        "\n",
        "\n",
        "\n",
        "\n"
      ],
      "metadata": {
        "id": "gCX9965dhzqZ"
      }
    },
    {
      "cell_type": "markdown",
      "source": [
        "Write the conclusion here."
      ],
      "metadata": {
        "id": "Fjb1IsQkh3yE"
      }
    },
    {
      "cell_type": "markdown",
      "source": [
        "### ***Hurrah! You have successfully completed your EDA Capstone Project !!!***"
      ],
      "metadata": {
        "id": "gIfDvo9L0UH2"
      }
    }
  ]
}